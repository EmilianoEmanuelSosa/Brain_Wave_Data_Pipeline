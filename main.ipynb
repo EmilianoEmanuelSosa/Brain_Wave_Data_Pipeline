{
 "cells": [
  {
   "cell_type": "code",
   "execution_count": 1,
   "metadata": {},
   "outputs": [],
   "source": [
    "import pandas as pd"
   ]
  },
  {
   "cell_type": "code",
   "execution_count": 18,
   "metadata": {},
   "outputs": [],
   "source": [
    "subject=pd.read_csv('dataset/original_data/subjectd-concentrating-1.csv')\n"
   ]
  },
  {
   "cell_type": "markdown",
   "metadata": {},
   "source": [
    "subject a=['timestamps', 'TP9', 'AF7', 'AF8', 'TP10', 'Right AUX']\n",
    "subject b=['timestamps', 'TP9', 'AF7', 'AF8', 'TP10', 'Right AUX']\n",
    "subject c=['timestamps', 'TP9', 'AF7', 'AF8', 'TP10', 'Right AUX']"
   ]
  },
  {
   "cell_type": "code",
   "execution_count": 19,
   "metadata": {},
   "outputs": [
    {
     "data": {
      "text/plain": [
       "['timestamps', 'TP9', 'AF7', 'AF8', 'TP10', 'Right AUX']"
      ]
     },
     "execution_count": 19,
     "metadata": {},
     "output_type": "execute_result"
    }
   ],
   "source": [
    "subject.columns.to_list()"
   ]
  },
  {
   "cell_type": "code",
   "execution_count": 4,
   "metadata": {},
   "outputs": [
    {
     "data": {
      "text/html": [
       "<div>\n",
       "<style scoped>\n",
       "    .dataframe tbody tr th:only-of-type {\n",
       "        vertical-align: middle;\n",
       "    }\n",
       "\n",
       "    .dataframe tbody tr th {\n",
       "        vertical-align: top;\n",
       "    }\n",
       "\n",
       "    .dataframe thead th {\n",
       "        text-align: right;\n",
       "    }\n",
       "</style>\n",
       "<table border=\"1\" class=\"dataframe\">\n",
       "  <thead>\n",
       "    <tr style=\"text-align: right;\">\n",
       "      <th></th>\n",
       "      <th>timestamps</th>\n",
       "      <th>TP9</th>\n",
       "      <th>AF7</th>\n",
       "      <th>AF8</th>\n",
       "      <th>TP10</th>\n",
       "      <th>Right AUX</th>\n",
       "    </tr>\n",
       "  </thead>\n",
       "  <tbody>\n",
       "    <tr>\n",
       "      <th>0</th>\n",
       "      <td>1.533223e+09</td>\n",
       "      <td>58.105</td>\n",
       "      <td>28.320</td>\n",
       "      <td>15.137</td>\n",
       "      <td>12.207</td>\n",
       "      <td>54.199</td>\n",
       "    </tr>\n",
       "    <tr>\n",
       "      <th>1</th>\n",
       "      <td>1.533223e+09</td>\n",
       "      <td>62.012</td>\n",
       "      <td>30.273</td>\n",
       "      <td>43.945</td>\n",
       "      <td>11.719</td>\n",
       "      <td>79.102</td>\n",
       "    </tr>\n",
       "    <tr>\n",
       "      <th>2</th>\n",
       "      <td>1.533223e+09</td>\n",
       "      <td>44.922</td>\n",
       "      <td>30.273</td>\n",
       "      <td>-97.656</td>\n",
       "      <td>11.230</td>\n",
       "      <td>32.715</td>\n",
       "    </tr>\n",
       "    <tr>\n",
       "      <th>3</th>\n",
       "      <td>1.533223e+09</td>\n",
       "      <td>28.809</td>\n",
       "      <td>27.832</td>\n",
       "      <td>-110.352</td>\n",
       "      <td>9.277</td>\n",
       "      <td>29.785</td>\n",
       "    </tr>\n",
       "    <tr>\n",
       "      <th>4</th>\n",
       "      <td>1.533223e+09</td>\n",
       "      <td>35.156</td>\n",
       "      <td>28.809</td>\n",
       "      <td>-73.242</td>\n",
       "      <td>11.230</td>\n",
       "      <td>50.781</td>\n",
       "    </tr>\n",
       "    <tr>\n",
       "      <th>...</th>\n",
       "      <td>...</td>\n",
       "      <td>...</td>\n",
       "      <td>...</td>\n",
       "      <td>...</td>\n",
       "      <td>...</td>\n",
       "      <td>...</td>\n",
       "    </tr>\n",
       "    <tr>\n",
       "      <th>15187</th>\n",
       "      <td>1.533223e+09</td>\n",
       "      <td>25.391</td>\n",
       "      <td>33.203</td>\n",
       "      <td>-388.672</td>\n",
       "      <td>22.461</td>\n",
       "      <td>19.043</td>\n",
       "    </tr>\n",
       "    <tr>\n",
       "      <th>15188</th>\n",
       "      <td>1.533223e+09</td>\n",
       "      <td>35.645</td>\n",
       "      <td>33.203</td>\n",
       "      <td>-136.230</td>\n",
       "      <td>24.902</td>\n",
       "      <td>0.977</td>\n",
       "    </tr>\n",
       "    <tr>\n",
       "      <th>15189</th>\n",
       "      <td>1.533223e+09</td>\n",
       "      <td>48.828</td>\n",
       "      <td>31.250</td>\n",
       "      <td>258.789</td>\n",
       "      <td>38.086</td>\n",
       "      <td>-15.137</td>\n",
       "    </tr>\n",
       "    <tr>\n",
       "      <th>15190</th>\n",
       "      <td>1.533223e+09</td>\n",
       "      <td>50.293</td>\n",
       "      <td>31.250</td>\n",
       "      <td>264.160</td>\n",
       "      <td>39.551</td>\n",
       "      <td>-5.859</td>\n",
       "    </tr>\n",
       "    <tr>\n",
       "      <th>15191</th>\n",
       "      <td>1.533223e+09</td>\n",
       "      <td>45.410</td>\n",
       "      <td>30.273</td>\n",
       "      <td>27.344</td>\n",
       "      <td>39.062</td>\n",
       "      <td>49.805</td>\n",
       "    </tr>\n",
       "  </tbody>\n",
       "</table>\n",
       "<p>15192 rows × 6 columns</p>\n",
       "</div>"
      ],
      "text/plain": [
       "         timestamps     TP9     AF7      AF8    TP10  Right AUX\n",
       "0      1.533223e+09  58.105  28.320   15.137  12.207     54.199\n",
       "1      1.533223e+09  62.012  30.273   43.945  11.719     79.102\n",
       "2      1.533223e+09  44.922  30.273  -97.656  11.230     32.715\n",
       "3      1.533223e+09  28.809  27.832 -110.352   9.277     29.785\n",
       "4      1.533223e+09  35.156  28.809  -73.242  11.230     50.781\n",
       "...             ...     ...     ...      ...     ...        ...\n",
       "15187  1.533223e+09  25.391  33.203 -388.672  22.461     19.043\n",
       "15188  1.533223e+09  35.645  33.203 -136.230  24.902      0.977\n",
       "15189  1.533223e+09  48.828  31.250  258.789  38.086    -15.137\n",
       "15190  1.533223e+09  50.293  31.250  264.160  39.551     -5.859\n",
       "15191  1.533223e+09  45.410  30.273   27.344  39.062     49.805\n",
       "\n",
       "[15192 rows x 6 columns]"
      ]
     },
     "execution_count": 4,
     "metadata": {},
     "output_type": "execute_result"
    }
   ],
   "source": []
  }
 ],
 "metadata": {
  "kernelspec": {
   "display_name": "env",
   "language": "python",
   "name": "python3"
  },
  "language_info": {
   "codemirror_mode": {
    "name": "ipython",
    "version": 3
   },
   "file_extension": ".py",
   "mimetype": "text/x-python",
   "name": "python",
   "nbconvert_exporter": "python",
   "pygments_lexer": "ipython3",
   "version": "3.11.5"
  },
  "orig_nbformat": 4
 },
 "nbformat": 4,
 "nbformat_minor": 2
}
